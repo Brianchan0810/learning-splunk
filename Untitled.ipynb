{
 "cells": [
  {
   "cell_type": "code",
   "execution_count": 1,
   "id": "ccf2ea6d",
   "metadata": {},
   "outputs": [],
   "source": [
    "import json\n",
    "import pandas as pd\n",
    "import splunklib.client as client\n",
    "import splunklib.results as results"
   ]
  },
  {
   "cell_type": "code",
   "execution_count": 2,
   "id": "925de5e3",
   "metadata": {},
   "outputs": [],
   "source": [
    "def connect_to_splunk(username,password,host='localhost',port='8089',owner='admin',app='search',sharing='user'):\n",
    "    try:\n",
    "        service = client.connect(host=host, port=port,username=username, password=password,owner=owner,app=app,sharing=sharing)\n",
    "        if service:\n",
    "            print(\"Splunk service created successfully\")\n",
    "            print(\"------------------------------------\")\n",
    "        return service\n",
    "    except Exception as e:\n",
    "        print(e)"
   ]
  },
  {
   "cell_type": "code",
   "execution_count": 39,
   "id": "608f2e39",
   "metadata": {},
   "outputs": [],
   "source": [
    "def blocking_search_to_df(service,search_string,payload={}):\n",
    "    try:\n",
    "        job = service.jobs.create(search_string,**payload)\n",
    "        results = job.results(output_mode='json').read()\n",
    "        return pd.DataFrame(json.loads(results.decode('utf8'))['results'])\n",
    "\n",
    "    except Exception as e:\n",
    "        print(e)"
   ]
  },
  {
   "cell_type": "code",
   "execution_count": 40,
   "id": "0d3b355b",
   "metadata": {},
   "outputs": [],
   "source": [
    "def oneshot_search_to_df(service,search_string, payload={}):\n",
    "    try:\n",
    "        results = service.jobs.oneshot(search_string, **payload).read()\n",
    "        return pd.DataFrame(json.loads(results.decode('utf8'))['results'])\n",
    "\n",
    "    except Exception as e:\n",
    "        print(e)"
   ]
  },
  {
   "cell_type": "code",
   "execution_count": 41,
   "id": "daeff667",
   "metadata": {},
   "outputs": [
    {
     "name": "stdout",
     "output_type": "stream",
     "text": [
      "Splunk service created successfully\n",
      "------------------------------------\n"
     ]
    }
   ],
   "source": [
    "splunk_service = connect_to_splunk(username='admin',password='MYpassword')"
   ]
  },
  {
   "cell_type": "code",
   "execution_count": 42,
   "id": "f2649044",
   "metadata": {},
   "outputs": [],
   "source": [
    "search_string= 'search index=my_first_index source=\"tutorialdata.zip:./www1/access.log\" latest=\"07/01/2022:00:00:00\" |head 20 | table _time, clientip, uri_path'\n",
    "payload = {\"exec_mode\":\"blocking\"}"
   ]
  },
  {
   "cell_type": "code",
   "execution_count": 43,
   "id": "c523e751",
   "metadata": {},
   "outputs": [],
   "source": [
    "df = blocking_search_to_df(splunk_service, search_string, payload)"
   ]
  },
  {
   "cell_type": "code",
   "execution_count": 44,
   "id": "82336604",
   "metadata": {},
   "outputs": [
    {
     "data": {
      "text/html": [
       "<div>\n",
       "<style scoped>\n",
       "    .dataframe tbody tr th:only-of-type {\n",
       "        vertical-align: middle;\n",
       "    }\n",
       "\n",
       "    .dataframe tbody tr th {\n",
       "        vertical-align: top;\n",
       "    }\n",
       "\n",
       "    .dataframe thead th {\n",
       "        text-align: right;\n",
       "    }\n",
       "</style>\n",
       "<table border=\"1\" class=\"dataframe\">\n",
       "  <thead>\n",
       "    <tr style=\"text-align: right;\">\n",
       "      <th></th>\n",
       "      <th>_time</th>\n",
       "      <th>clientip</th>\n",
       "      <th>uri_path</th>\n",
       "    </tr>\n",
       "  </thead>\n",
       "  <tbody>\n",
       "    <tr>\n",
       "      <th>0</th>\n",
       "      <td>2022-06-30T23:57:42.000+00:00</td>\n",
       "      <td>208.240.243.170</td>\n",
       "      <td>/product.screen</td>\n",
       "    </tr>\n",
       "    <tr>\n",
       "      <th>1</th>\n",
       "      <td>2022-06-30T23:57:42.000+00:00</td>\n",
       "      <td>208.240.243.170</td>\n",
       "      <td>/cart/success.do</td>\n",
       "    </tr>\n",
       "    <tr>\n",
       "      <th>2</th>\n",
       "      <td>2022-06-30T23:57:42.000+00:00</td>\n",
       "      <td>208.240.243.170</td>\n",
       "      <td>/cart.do</td>\n",
       "    </tr>\n",
       "    <tr>\n",
       "      <th>3</th>\n",
       "      <td>2022-06-30T23:57:41.000+00:00</td>\n",
       "      <td>208.240.243.170</td>\n",
       "      <td>/oldlink</td>\n",
       "    </tr>\n",
       "    <tr>\n",
       "      <th>4</th>\n",
       "      <td>2022-06-30T23:57:40.000+00:00</td>\n",
       "      <td>208.240.243.170</td>\n",
       "      <td>/cart.do</td>\n",
       "    </tr>\n",
       "  </tbody>\n",
       "</table>\n",
       "</div>"
      ],
      "text/plain": [
       "                           _time         clientip          uri_path\n",
       "0  2022-06-30T23:57:42.000+00:00  208.240.243.170   /product.screen\n",
       "1  2022-06-30T23:57:42.000+00:00  208.240.243.170  /cart/success.do\n",
       "2  2022-06-30T23:57:42.000+00:00  208.240.243.170          /cart.do\n",
       "3  2022-06-30T23:57:41.000+00:00  208.240.243.170          /oldlink\n",
       "4  2022-06-30T23:57:40.000+00:00  208.240.243.170          /cart.do"
      ]
     },
     "execution_count": 44,
     "metadata": {},
     "output_type": "execute_result"
    }
   ],
   "source": [
    "df.head(5)"
   ]
  },
  {
   "cell_type": "code",
   "execution_count": 48,
   "id": "fd8d49a0",
   "metadata": {},
   "outputs": [],
   "source": [
    "search_string= 'search index=my_first_index source=\"tutorialdata.zip:./www1/access.log\" |head 20| table _time, clientip, uri_path'\n",
    "payload = {\"output_mode\":\"json\", 'latest_time': \"2022-07-01T00:00:00\"}"
   ]
  },
  {
   "cell_type": "code",
   "execution_count": 49,
   "id": "bae5c88e",
   "metadata": {},
   "outputs": [],
   "source": [
    "df = oneshot_search_to_df(splunk_service, search_string, payload)"
   ]
  },
  {
   "cell_type": "code",
   "execution_count": 50,
   "id": "b24bd246",
   "metadata": {},
   "outputs": [
    {
     "data": {
      "text/html": [
       "<div>\n",
       "<style scoped>\n",
       "    .dataframe tbody tr th:only-of-type {\n",
       "        vertical-align: middle;\n",
       "    }\n",
       "\n",
       "    .dataframe tbody tr th {\n",
       "        vertical-align: top;\n",
       "    }\n",
       "\n",
       "    .dataframe thead th {\n",
       "        text-align: right;\n",
       "    }\n",
       "</style>\n",
       "<table border=\"1\" class=\"dataframe\">\n",
       "  <thead>\n",
       "    <tr style=\"text-align: right;\">\n",
       "      <th></th>\n",
       "      <th>_time</th>\n",
       "      <th>clientip</th>\n",
       "      <th>uri_path</th>\n",
       "    </tr>\n",
       "  </thead>\n",
       "  <tbody>\n",
       "    <tr>\n",
       "      <th>0</th>\n",
       "      <td>2022-06-30T23:57:42.000+00:00</td>\n",
       "      <td>208.240.243.170</td>\n",
       "      <td>/product.screen</td>\n",
       "    </tr>\n",
       "    <tr>\n",
       "      <th>1</th>\n",
       "      <td>2022-06-30T23:57:42.000+00:00</td>\n",
       "      <td>208.240.243.170</td>\n",
       "      <td>/cart/success.do</td>\n",
       "    </tr>\n",
       "    <tr>\n",
       "      <th>2</th>\n",
       "      <td>2022-06-30T23:57:42.000+00:00</td>\n",
       "      <td>208.240.243.170</td>\n",
       "      <td>/cart.do</td>\n",
       "    </tr>\n",
       "    <tr>\n",
       "      <th>3</th>\n",
       "      <td>2022-06-30T23:57:41.000+00:00</td>\n",
       "      <td>208.240.243.170</td>\n",
       "      <td>/oldlink</td>\n",
       "    </tr>\n",
       "    <tr>\n",
       "      <th>4</th>\n",
       "      <td>2022-06-30T23:57:40.000+00:00</td>\n",
       "      <td>208.240.243.170</td>\n",
       "      <td>/cart.do</td>\n",
       "    </tr>\n",
       "  </tbody>\n",
       "</table>\n",
       "</div>"
      ],
      "text/plain": [
       "                           _time         clientip          uri_path\n",
       "0  2022-06-30T23:57:42.000+00:00  208.240.243.170   /product.screen\n",
       "1  2022-06-30T23:57:42.000+00:00  208.240.243.170  /cart/success.do\n",
       "2  2022-06-30T23:57:42.000+00:00  208.240.243.170          /cart.do\n",
       "3  2022-06-30T23:57:41.000+00:00  208.240.243.170          /oldlink\n",
       "4  2022-06-30T23:57:40.000+00:00  208.240.243.170          /cart.do"
      ]
     },
     "execution_count": 50,
     "metadata": {},
     "output_type": "execute_result"
    }
   ],
   "source": [
    "df.head(5)"
   ]
  },
  {
   "cell_type": "code",
   "execution_count": null,
   "id": "56e8c49a",
   "metadata": {},
   "outputs": [],
   "source": []
  }
 ],
 "metadata": {
  "kernelspec": {
   "display_name": "Python 3 (ipykernel)",
   "language": "python",
   "name": "python3"
  },
  "language_info": {
   "codemirror_mode": {
    "name": "ipython",
    "version": 3
   },
   "file_extension": ".py",
   "mimetype": "text/x-python",
   "name": "python",
   "nbconvert_exporter": "python",
   "pygments_lexer": "ipython3",
   "version": "3.8.10"
  }
 },
 "nbformat": 4,
 "nbformat_minor": 5
}
